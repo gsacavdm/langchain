{
 "cells": [
  {
   "cell_type": "markdown",
   "id": "020e334e-8092-4f2b-9272-af5e2c8eac1e",
   "metadata": {},
   "source": [
    "# Langchain Tutorial\n",
    "[Source](https://www.pinecone.io/learn/langchain-intro/)"
   ]
  },
  {
   "cell_type": "markdown",
   "id": "b60c1ae1-3d74-4edd-903b-7104a5873430",
   "metadata": {},
   "source": [
    "## Pre-reqs"
   ]
  },
  {
   "cell_type": "markdown",
   "id": "6d18b4d3-5299-4c2a-a359-98f74e53a8f4",
   "metadata": {},
   "source": [
    "### Install Library"
   ]
  },
  {
   "cell_type": "code",
   "execution_count": 6,
   "id": "79450337-45cb-4204-84b9-c25eea217d06",
   "metadata": {},
   "outputs": [],
   "source": [
    "!pip install -Uqq langchain"
   ]
  },
  {
   "cell_type": "markdown",
   "id": "c7bb655b-99ab-4da9-be1a-5c4d1b18f3bd",
   "metadata": {},
   "source": [
    "### Load Secrets"
   ]
  },
  {
   "cell_type": "code",
   "execution_count": 7,
   "id": "eb25ee4c-7fec-4f13-a9a1-29ae2cc9217d",
   "metadata": {},
   "outputs": [],
   "source": [
    "import json"
   ]
  },
  {
   "cell_type": "code",
   "execution_count": 8,
   "id": "b1a875d8-84d9-453c-8bd0-7f27e55b8d15",
   "metadata": {},
   "outputs": [],
   "source": [
    "with open('.secrets.json') as secrets_file:\n",
    "    secrets = json.loads(secrets_file.read())"
   ]
  },
  {
   "cell_type": "markdown",
   "id": "d0667dbd-9282-46c6-86ba-9660f79a7a2a",
   "metadata": {},
   "source": [
    "## Simple Q&A"
   ]
  },
  {
   "cell_type": "markdown",
   "id": "6b8ee288-5716-4dbc-964b-b61748e3a4cd",
   "metadata": {},
   "source": [
    "### Setup Prompt"
   ]
  },
  {
   "cell_type": "code",
   "execution_count": 9,
   "id": "e7cfe453-43a5-4730-9bc0-47da13ac5b89",
   "metadata": {},
   "outputs": [],
   "source": [
    "from langchain import PromptTemplate"
   ]
  },
  {
   "cell_type": "code",
   "execution_count": 10,
   "id": "c54c09ce-4090-45ed-b8e2-82b5b6431518",
   "metadata": {},
   "outputs": [],
   "source": [
    "template = \"\"\"Question: {question}\n",
    "\n",
    "Answer:\"\"\""
   ]
  },
  {
   "cell_type": "code",
   "execution_count": 11,
   "id": "0b5f9e18-62af-4fea-9afb-e17e560e1dc2",
   "metadata": {},
   "outputs": [],
   "source": [
    "prompt = PromptTemplate(\n",
    "    template=template,\n",
    "    input_variables=['question']\n",
    ")"
   ]
  },
  {
   "cell_type": "code",
   "execution_count": 12,
   "id": "bc66129d-e487-4e9e-ac18-9b57afde75b6",
   "metadata": {},
   "outputs": [],
   "source": [
    "question = \"Which NLF team won the Super Bowl in the 2010 season?\""
   ]
  },
  {
   "cell_type": "code",
   "execution_count": 13,
   "id": "9e54ec70-b292-48f7-b5a2-806baededeab",
   "metadata": {},
   "outputs": [],
   "source": [
    "questions = [\n",
    "    { 'question' : 'Which NLF team won the Super Bowl in the 2010 season?' },   \n",
    "    { 'question' : 'How much is 2 + 2' },\n",
    "    { 'question' : 'Who is the Greek godess of love?' },\n",
    "    { 'question' : 'Name one thing that is infinite.' }\n",
    "]"
   ]
  },
  {
   "cell_type": "code",
   "execution_count": 14,
   "id": "8e999ae9-0718-4d09-8519-13c9ccdd0a05",
   "metadata": {},
   "outputs": [],
   "source": [
    "template_multi = \"\"\"Answer the following questions one at a time.\n",
    "\n",
    "Questions:\n",
    "{questions}\n",
    "\n",
    "Answers:\"\"\""
   ]
  },
  {
   "cell_type": "code",
   "execution_count": 15,
   "id": "df8fc8f9-3d1b-4f81-8c00-29fbc7485107",
   "metadata": {},
   "outputs": [],
   "source": [
    "prompt_multi = PromptTemplate(\n",
    "    template=template_multi,\n",
    "    input_variables=['questions']\n",
    ")"
   ]
  },
  {
   "cell_type": "code",
   "execution_count": 16,
   "id": "7986bc2c-4059-4f12-8e4f-e867a6a02644",
   "metadata": {},
   "outputs": [],
   "source": [
    "questions_string = \\\n",
    "\"\\n\".join(\n",
    "    [q['question'] for q in questions]\n",
    ")"
   ]
  },
  {
   "cell_type": "markdown",
   "id": "082d0341-2a18-4a07-b1b5-225bc012bbae",
   "metadata": {},
   "source": [
    "### Using Hugging Face"
   ]
  },
  {
   "cell_type": "code",
   "execution_count": 17,
   "id": "70a3f0d4-ab4a-4411-b00e-5db86319ab21",
   "metadata": {},
   "outputs": [],
   "source": [
    "!pip install -Uqq huggingface_hub"
   ]
  },
  {
   "cell_type": "code",
   "execution_count": 18,
   "id": "c38805db-a0fa-4fed-8333-893bf7aec36a",
   "metadata": {},
   "outputs": [],
   "source": [
    "from langchain import HuggingFaceHub, LLMChain"
   ]
  },
  {
   "cell_type": "code",
   "execution_count": 19,
   "id": "622ca9d6-1fa4-43be-9820-36d9eabd214b",
   "metadata": {},
   "outputs": [],
   "source": [
    "api_token_hf = secrets['hf-read']"
   ]
  },
  {
   "cell_type": "code",
   "execution_count": 20,
   "id": "3faf1b8e-51dc-4913-938d-a0d7f9c8659a",
   "metadata": {},
   "outputs": [],
   "source": [
    "llm_hf = HuggingFaceHub(\n",
    "    repo_id='google/flan-t5-xxl',\n",
    "    #model_kwargs={'temperature': 1e-10},\n",
    "    huggingfacehub_api_token=api_token_hf\n",
    ")"
   ]
  },
  {
   "cell_type": "code",
   "execution_count": 21,
   "id": "7e69ffc8-ed13-4e72-b63f-0a150d1d6cb1",
   "metadata": {},
   "outputs": [],
   "source": [
    "llm_chain_hf = LLMChain(\n",
    "    prompt=prompt,\n",
    "    llm=llm_hf\n",
    ")"
   ]
  },
  {
   "cell_type": "code",
   "execution_count": 22,
   "id": "acfdb03e-b498-491f-aa02-29813782ac24",
   "metadata": {},
   "outputs": [],
   "source": [
    "response_hf = llm_chain_hf.run(question)"
   ]
  },
  {
   "cell_type": "code",
   "execution_count": 23,
   "id": "0b2fa0d8-4c9b-462a-9c59-9818269fb518",
   "metadata": {},
   "outputs": [
    {
     "data": {
      "text/plain": [
       "'detroit lions'"
      ]
     },
     "execution_count": 23,
     "metadata": {},
     "output_type": "execute_result"
    }
   ],
   "source": [
    "response_hf"
   ]
  },
  {
   "cell_type": "code",
   "execution_count": 24,
   "id": "ec969ffd-d5ef-4114-a487-b4b4a18dd441",
   "metadata": {},
   "outputs": [],
   "source": [
    "results_multi_hf = llm_chain_hf.generate(questions)"
   ]
  },
  {
   "cell_type": "code",
   "execution_count": 25,
   "id": "13c77b4c-b818-4b60-bebc-e308255dbb64",
   "metadata": {},
   "outputs": [
    {
     "data": {
      "text/plain": [
       "['detroit lions', '4', 'helen of troy', 'space']"
      ]
     },
     "execution_count": 25,
     "metadata": {},
     "output_type": "execute_result"
    }
   ],
   "source": [
    "[g[0].text for g in results_multi_hf.generations]"
   ]
  },
  {
   "cell_type": "code",
   "execution_count": 26,
   "id": "4726c31a-a9d3-4cb5-b105-6839db630585",
   "metadata": {},
   "outputs": [],
   "source": [
    "llm_chain_hf_multi = LLMChain(\n",
    "    prompt=prompt_multi,\n",
    "    llm=llm_hf\n",
    ")"
   ]
  },
  {
   "cell_type": "code",
   "execution_count": 27,
   "id": "dcd99c35-3127-4f09-8a87-8a22e98fccd5",
   "metadata": {},
   "outputs": [],
   "source": [
    "results_multi_single_hf = llm_chain_hf_multi.run(questions_string)"
   ]
  },
  {
   "cell_type": "code",
   "execution_count": 28,
   "id": "625e3cd5-cce0-4805-9d19-9b6db1849396",
   "metadata": {},
   "outputs": [
    {
     "data": {
      "text/plain": [
       "'The New York Giants'"
      ]
     },
     "execution_count": 28,
     "metadata": {},
     "output_type": "execute_result"
    }
   ],
   "source": [
    "results_multi_single_hf"
   ]
  },
  {
   "cell_type": "markdown",
   "id": "86763880-5fc3-4347-b28d-d3d560057443",
   "metadata": {},
   "source": [
    "### Using OpenAI"
   ]
  },
  {
   "cell_type": "code",
   "execution_count": 29,
   "id": "9741b416-daad-47f9-a284-0edbe7216451",
   "metadata": {},
   "outputs": [],
   "source": [
    "!pip install -Uqq openai"
   ]
  },
  {
   "cell_type": "code",
   "execution_count": 30,
   "id": "83b75535-c4aa-4594-af00-c97d2fa2bcb1",
   "metadata": {},
   "outputs": [],
   "source": [
    "from langchain import OpenAI, LLMChain"
   ]
  },
  {
   "cell_type": "code",
   "execution_count": 31,
   "id": "34df1b3d-cdc1-4fc6-b435-fdb022674e5d",
   "metadata": {},
   "outputs": [],
   "source": [
    "api_token_openai = secrets['openai']"
   ]
  },
  {
   "cell_type": "code",
   "execution_count": 32,
   "id": "b0affb64-8c85-4d1b-b9b1-d0f6d9a68403",
   "metadata": {},
   "outputs": [],
   "source": [
    "llm_openai = OpenAI(\n",
    "    model_name='text-davinci-003',\n",
    "    openai_api_key=api_token_openai\n",
    ")"
   ]
  },
  {
   "cell_type": "code",
   "execution_count": 33,
   "id": "075a4086-1e89-40f4-8a2d-c337ed92deec",
   "metadata": {},
   "outputs": [],
   "source": [
    "llm_chain_openai = LLMChain(\n",
    "    prompt=prompt,\n",
    "    llm=llm_openai\n",
    ")"
   ]
  },
  {
   "cell_type": "code",
   "execution_count": 34,
   "id": "029901c5-ad28-4f72-9242-039c457d30ba",
   "metadata": {},
   "outputs": [
    {
     "name": "stderr",
     "output_type": "stream",
     "text": [
      "Retrying langchain.llms.openai.completion_with_retry.<locals>._completion_with_retry in 4.0 seconds as it raised RateLimitError: You exceeded your current quota, please check your plan and billing details..\n"
     ]
    }
   ],
   "source": [
    "response_openai = llm_chain_openai.run(question)"
   ]
  },
  {
   "cell_type": "code",
   "execution_count": 35,
   "id": "264e892a-10e0-4f93-a0de-c64e8c185042",
   "metadata": {},
   "outputs": [
    {
     "data": {
      "text/plain": [
       "' The Green Bay Packers won the Super Bowl in the 2010 season.'"
      ]
     },
     "execution_count": 35,
     "metadata": {},
     "output_type": "execute_result"
    }
   ],
   "source": [
    "response_openai"
   ]
  },
  {
   "cell_type": "code",
   "execution_count": 36,
   "id": "1bd72cc4-96c3-4eb0-9705-ef93b656f00d",
   "metadata": {},
   "outputs": [],
   "source": [
    "response_multi_openai = llm_chain_openai.run(questions)"
   ]
  },
  {
   "cell_type": "code",
   "execution_count": 37,
   "id": "a7a456ea-c60a-40fb-be92-ae868c1bd9e8",
   "metadata": {},
   "outputs": [
    {
     "data": {
      "text/plain": [
       "'\\n1. The New Orleans Saints\\n2. 4\\n3. Aphrodite\\n4. The Universe'"
      ]
     },
     "execution_count": 37,
     "metadata": {},
     "output_type": "execute_result"
    }
   ],
   "source": [
    "response_multi_openai"
   ]
  },
  {
   "cell_type": "code",
   "execution_count": 41,
   "id": "d09d647f-1f1c-41d0-be7c-20d8c1d626dd",
   "metadata": {},
   "outputs": [],
   "source": [
    "llm_chain_openai_multi = LLMChain(\n",
    "    prompt=prompt_multi,\n",
    "    llm=llm_openai\n",
    ")"
   ]
  },
  {
   "cell_type": "code",
   "execution_count": 42,
   "id": "000f818f-7a25-4223-a2b2-4ee9bf7d4e62",
   "metadata": {},
   "outputs": [],
   "source": [
    "response_multi_single_openai = llm_chain_openai_multi.run(questions_string)"
   ]
  },
  {
   "cell_type": "code",
   "execution_count": 43,
   "id": "3e80d530-6913-414f-8e5e-9b2ea1cac380",
   "metadata": {},
   "outputs": [
    {
     "data": {
      "text/plain": [
       "'\\nThe New Orleans Saints won the Super Bowl in the 2010 season.\\n2 + 2 = 4.\\nThe Greek goddess of love is Aphrodite.\\nOne thing that is infinite is the universe.'"
      ]
     },
     "execution_count": 43,
     "metadata": {},
     "output_type": "execute_result"
    }
   ],
   "source": [
    "response_multi_single_openai"
   ]
  },
  {
   "cell_type": "code",
   "execution_count": null,
   "id": "bc2cf494-7719-4713-8146-51822bd6d90e",
   "metadata": {},
   "outputs": [],
   "source": []
  }
 ],
 "metadata": {
  "kernelspec": {
   "display_name": "Python 3 (ipykernel)",
   "language": "python",
   "name": "python3"
  },
  "language_info": {
   "codemirror_mode": {
    "name": "ipython",
    "version": 3
   },
   "file_extension": ".py",
   "mimetype": "text/x-python",
   "name": "python",
   "nbconvert_exporter": "python",
   "pygments_lexer": "ipython3",
   "version": "3.10.6"
  }
 },
 "nbformat": 4,
 "nbformat_minor": 5
}
