{
 "cells": [
  {
   "cell_type": "markdown",
   "id": "a52ad757-13ea-4e9f-8bc1-92edf57ab00f",
   "metadata": {},
   "source": [
    "# Load Secrets\n",
    "This utility notebook is used by all other notebooks and retrieve the API tokens to talk to OpenAI, Hugging Face, etc."
   ]
  },
  {
   "cell_type": "code",
   "execution_count": 1,
   "id": "a6565360-5fef-4a88-bb3f-f81087681f71",
   "metadata": {},
   "outputs": [],
   "source": [
    "import json"
   ]
  },
  {
   "cell_type": "markdown",
   "id": "89b1d0a9-2f8f-4623-b5a5-2bcdc66e72d6",
   "metadata": {},
   "source": [
    "We need special handling of the path to `.secret.json` so that this notebook can run both by itself and within a notebook at the root."
   ]
  },
  {
   "cell_type": "code",
   "execution_count": 9,
   "id": "649abcf0-46b3-4db1-8716-50e87de30b78",
   "metadata": {},
   "outputs": [],
   "source": [
    "path = '' if ('__file__' in globals()) else '../'"
   ]
  },
  {
   "cell_type": "code",
   "execution_count": 12,
   "id": "a9a8c599-6826-4bf8-b111-7aaaa980c9e1",
   "metadata": {},
   "outputs": [],
   "source": [
    "with open(f'{path}.secrets.json') as secrets_file:\n",
    "    secrets = json.loads(secrets_file.read())"
   ]
  }
 ],
 "metadata": {
  "kernelspec": {
   "display_name": "Python 3 (ipykernel)",
   "language": "python",
   "name": "python3"
  },
  "language_info": {
   "codemirror_mode": {
    "name": "ipython",
    "version": 3
   },
   "file_extension": ".py",
   "mimetype": "text/x-python",
   "name": "python",
   "nbconvert_exporter": "python",
   "pygments_lexer": "ipython3",
   "version": "3.10.6"
  }
 },
 "nbformat": 4,
 "nbformat_minor": 5
}
